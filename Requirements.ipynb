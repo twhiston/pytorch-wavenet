{
 "cells": [
  {
   "cell_type": "markdown",
   "metadata": {},
   "source": [
    "Install requirements"
   ]
  },
  {
   "cell_type": "code",
   "execution_count": 5,
   "metadata": {},
   "outputs": [
    {
     "name": "stdout",
     "output_type": "stream",
     "text": [
      "Requirement already satisfied: numpy in /Users/twhiston/.local/share/virtualenvs/experiment1--bGD2bNN/lib/python3.7/site-packages (1.17.3)\n",
      "Requirement already satisfied: librosa in /Users/twhiston/.local/share/virtualenvs/experiment1--bGD2bNN/lib/python3.7/site-packages (0.7.1)\n",
      "Requirement already satisfied: torch in /Users/twhiston/.local/share/virtualenvs/experiment1--bGD2bNN/lib/python3.7/site-packages (1.3.0.post2)\n",
      "Requirement already satisfied: scipy>=1.0.0 in /Users/twhiston/.local/share/virtualenvs/experiment1--bGD2bNN/lib/python3.7/site-packages (from librosa) (1.3.1)\n",
      "Requirement already satisfied: audioread>=2.0.0 in /Users/twhiston/.local/share/virtualenvs/experiment1--bGD2bNN/lib/python3.7/site-packages (from librosa) (2.1.8)\n",
      "Requirement already satisfied: decorator>=3.0.0 in /Users/twhiston/.local/share/virtualenvs/experiment1--bGD2bNN/lib/python3.7/site-packages (from librosa) (4.4.0)\n",
      "Requirement already satisfied: six>=1.3 in /Users/twhiston/.local/share/virtualenvs/experiment1--bGD2bNN/lib/python3.7/site-packages (from librosa) (1.12.0)\n",
      "Requirement already satisfied: soundfile>=0.9.0 in /Users/twhiston/.local/share/virtualenvs/experiment1--bGD2bNN/lib/python3.7/site-packages (from librosa) (0.10.2)\n",
      "Requirement already satisfied: joblib>=0.12 in /Users/twhiston/.local/share/virtualenvs/experiment1--bGD2bNN/lib/python3.7/site-packages (from librosa) (0.14.0)\n",
      "Requirement already satisfied: resampy>=0.2.2 in /Users/twhiston/.local/share/virtualenvs/experiment1--bGD2bNN/lib/python3.7/site-packages (from librosa) (0.2.2)\n",
      "Requirement already satisfied: scikit-learn!=0.19.0,>=0.14.0 in /Users/twhiston/.local/share/virtualenvs/experiment1--bGD2bNN/lib/python3.7/site-packages (from librosa) (0.21.3)\n",
      "Requirement already satisfied: numba>=0.43.0 in /Users/twhiston/.local/share/virtualenvs/experiment1--bGD2bNN/lib/python3.7/site-packages (from librosa) (0.46.0)\n",
      "Requirement already satisfied: cffi>=1.0 in /Users/twhiston/.local/share/virtualenvs/experiment1--bGD2bNN/lib/python3.7/site-packages (from soundfile>=0.9.0->librosa) (1.13.1)\n",
      "Requirement already satisfied: llvmlite>=0.30.0dev0 in /Users/twhiston/.local/share/virtualenvs/experiment1--bGD2bNN/lib/python3.7/site-packages (from numba>=0.43.0->librosa) (0.30.0)\n",
      "Requirement already satisfied: pycparser in /Users/twhiston/.local/share/virtualenvs/experiment1--bGD2bNN/lib/python3.7/site-packages (from cffi>=1.0->soundfile>=0.9.0->librosa) (2.19)\n"
     ]
    }
   ],
   "source": [
    "# Install a pip package in the current Jupyter kernel\n",
    "import sys\n",
    "!{sys.executable} -m pip install numpy librosa torch"
   ]
  },
  {
   "cell_type": "code",
   "execution_count": null,
   "metadata": {},
   "outputs": [],
   "source": []
  }
 ],
 "metadata": {
  "kernelspec": {
   "display_name": "Python 3",
   "language": "python",
   "name": "python3"
  },
  "language_info": {
   "codemirror_mode": {
    "name": "ipython",
    "version": 3
   },
   "file_extension": ".py",
   "mimetype": "text/x-python",
   "name": "python",
   "nbconvert_exporter": "python",
   "pygments_lexer": "ipython3",
   "version": "3.5.3"
  }
 },
 "nbformat": 4,
 "nbformat_minor": 4
}
