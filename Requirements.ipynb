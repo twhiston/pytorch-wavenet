{
 "cells": [
  {
   "cell_type": "markdown",
   "metadata": {},
   "source": [
    "Install requirements"
   ]
  },
  {
   "cell_type": "code",
   "execution_count": 1,
   "metadata": {},
   "outputs": [
    {
     "name": "stdout",
     "output_type": "stream",
     "text": [
      "Collecting numpy\n",
      "  Downloading https://files.pythonhosted.org/packages/5e/f8/82a8a6ed446b58aa718b2744b265983783a2c84098a73db6d0b78a573e25/numpy-1.17.3-cp35-cp35m-manylinux1_x86_64.whl (19.8MB)\n",
      "\u001b[K    100% |████████████████████████████████| 19.8MB 73kB/s  eta 0:00:01\n",
      "\u001b[?25hCollecting librosa\n",
      "  Downloading https://files.pythonhosted.org/packages/0b/71/c21ccef81276d85b9e3a36d80dad5baaf8a91f912e65eff0fd0d74a5a19c/librosa-0.7.1.tar.gz (1.6MB)\n",
      "\u001b[K    100% |████████████████████████████████| 1.6MB 924kB/s eta 0:00:01\n",
      "\u001b[?25hCollecting torch\n",
      "  Downloading https://files.pythonhosted.org/packages/da/b5/94ce035094590a56758037dce2160b147fcb2965860b9c22580b5e7047d6/torch-1.3.0-cp35-cp35m-manylinux1_x86_64.whl (773.1MB)\n",
      "\u001b[K    100% |████████████████████████████████| 773.1MB 1.8kB/s eta 0:00:01  5% |█▊                              | 41.2MB 41.0MB/s eta 0:00:18\n",
      "\u001b[?25hCollecting audioread>=2.0.0 (from librosa)\n",
      "  Downloading https://files.pythonhosted.org/packages/2e/0b/940ea7861e0e9049f09dcfd72a90c9ae55f697c17c299a323f0148f913d2/audioread-2.1.8.tar.gz\n",
      "Collecting scipy>=1.0.0 (from librosa)\n",
      "  Downloading https://files.pythonhosted.org/packages/7a/0e/3781e028d62a8422244582abd8f084e6314297026760587c85607f687bf3/scipy-1.3.1-cp35-cp35m-manylinux1_x86_64.whl (25.1MB)\n",
      "\u001b[K    100% |████████████████████████████████| 25.1MB 58kB/s  eta 0:00:01\n",
      "\u001b[?25hCollecting scikit-learn!=0.19.0,>=0.14.0 (from librosa)\n",
      "  Downloading https://files.pythonhosted.org/packages/1f/af/e3c3cd6f61093830059138624dbd26d938d6da1caeec5aeabe772b916069/scikit_learn-0.21.3-cp35-cp35m-manylinux1_x86_64.whl (6.6MB)\n",
      "\u001b[K    100% |████████████████████████████████| 6.6MB 227kB/s eta 0:00:01K    4% |█▍                              | 286kB 52.2MB/s eta 0:00:01\n",
      "\u001b[?25hCollecting joblib>=0.12 (from librosa)\n",
      "  Downloading https://files.pythonhosted.org/packages/8f/42/155696f85f344c066e17af287359c9786b436b1bf86029bb3411283274f3/joblib-0.14.0-py2.py3-none-any.whl (294kB)\n",
      "\u001b[K    100% |████████████████████████████████| 296kB 4.3MB/s eta 0:00:01\n",
      "\u001b[?25hCollecting decorator>=3.0.0 (from librosa)\n",
      "  Downloading https://files.pythonhosted.org/packages/5f/88/0075e461560a1e750a0dcbf77f1d9de775028c37a19a346a6c565a257399/decorator-4.4.0-py2.py3-none-any.whl\n",
      "Collecting six>=1.3 (from librosa)\n",
      "  Downloading https://files.pythonhosted.org/packages/73/fb/00a976f728d0d1fecfe898238ce23f502a721c0ac0ecfedb80e0d88c64e9/six-1.12.0-py2.py3-none-any.whl\n",
      "Collecting resampy>=0.2.2 (from librosa)\n",
      "  Downloading https://files.pythonhosted.org/packages/79/75/e22272b9c2185fc8f3af6ce37229708b45e8b855fd4bc38b4d6b040fff65/resampy-0.2.2.tar.gz (323kB)\n",
      "\u001b[K    100% |████████████████████████████████| 327kB 3.8MB/s eta 0:00:01\n",
      "\u001b[?25hCollecting numba>=0.43.0 (from librosa)\n",
      "  Downloading https://files.pythonhosted.org/packages/21/ff/1e2afaf5e92a337ba3dbc610e6a5666cd88a0f84226fb406b328f8c159b3/numba-0.46.0-cp35-cp35m-manylinux1_x86_64.whl (3.6MB)\n",
      "\u001b[K    100% |████████████████████████████████| 3.6MB 441kB/s eta 0:00:01\n",
      "\u001b[?25hCollecting soundfile>=0.9.0 (from librosa)\n",
      "  Downloading https://files.pythonhosted.org/packages/68/64/1191352221e2ec90db7492b4bf0c04fd9d2508de67b3f39cbf093cd6bd86/SoundFile-0.10.2-py2.py3-none-any.whl\n",
      "Collecting llvmlite>=0.30.0dev0 (from numba>=0.43.0->librosa)\n",
      "  Downloading https://files.pythonhosted.org/packages/46/76/2e5470636f57e88ba4a128457137cd6c2ca3c7e834f03b8890242b2df1b6/llvmlite-0.30.0-cp35-cp35m-manylinux1_x86_64.whl (20.2MB)\n",
      "\u001b[K    99% |████████████████████████████████| 20.2MB 39.6MB/s eta 0:00:01\u001b[?25hCollecting cffi>=1.0 (from soundfile>=0.9.0->librosa)\n",
      "  Downloading https://files.pythonhosted.org/packages/c0/57/196993d5587fb8c5d3ce9965e520584e79729b9f3b1e2bf74ff68a84506d/cffi-1.13.1-cp35-cp35m-manylinux1_x86_64.whl (392kB)\n",
      "\u001b[K    100% |████████████████████████████████| 399kB 3.1MB/s eta 0:00:01\n",
      "\u001b[?25hCollecting pycparser (from cffi>=1.0->soundfile>=0.9.0->librosa)\n",
      "  Downloading https://files.pythonhosted.org/packages/68/9e/49196946aee219aead1290e00d1e7fdeab8567783e83e1b9ab5585e6206a/pycparser-2.19.tar.gz (158kB)\n",
      "\u001b[K    100% |████████████████████████████████| 163kB 6.8MB/s eta 0:00:01\n",
      "\u001b[?25hBuilding wheels for collected packages: librosa, audioread, resampy, pycparser\n",
      "  Running setup.py bdist_wheel for librosa ... \u001b[?25ldone\n",
      "\u001b[?25h  Stored in directory: /home/jupyter/.cache/pip/wheels/07/36/47/a9a4d151332cbdaec564500af9704a0ad862cf554dcf4bfda0\n",
      "  Running setup.py bdist_wheel for audioread ... \u001b[?25ldone\n",
      "\u001b[?25h  Stored in directory: /home/jupyter/.cache/pip/wheels/b9/64/09/0b6417df9d8ba8bc61a7d2553c5cebd714ec169644c88fc012\n",
      "  Running setup.py bdist_wheel for resampy ... \u001b[?25ldone\n",
      "\u001b[?25h  Stored in directory: /home/jupyter/.cache/pip/wheels/fa/c1/56/e0e12c6f7f3d2cdea9712b35136a2d40a7817c6210ec096485\n",
      "  Running setup.py bdist_wheel for pycparser ... \u001b[?25ldone\n",
      "\u001b[?25h  Stored in directory: /home/jupyter/.cache/pip/wheels/f2/9a/90/de94f8556265ddc9d9c8b271b0f63e57b26fb1d67a45564511\n",
      "Successfully built librosa audioread resampy pycparser\n",
      "Installing collected packages: numpy, audioread, scipy, joblib, scikit-learn, decorator, six, llvmlite, numba, resampy, pycparser, cffi, soundfile, librosa, torch\n",
      "Successfully installed audioread-2.1.8 cffi-1.13.1 decorator-4.4.0 joblib-0.14.0 librosa-0.7.1 llvmlite-0.30.0 numba-0.46.0 numpy-1.17.3 pycparser-2.19 resampy-0.2.2 scikit-learn-0.21.3 scipy-1.3.1 six-1.12.0 soundfile-0.10.2 torch-1.3.0\n"
     ]
    }
   ],
   "source": [
    "# Install a pip package in the current Jupyter kernel\n",
    "import sys\n",
    "!{sys.executable} -m pip install numpy librosa torch"
   ]
  },
  {
   "cell_type": "code",
   "execution_count": null,
   "metadata": {},
   "outputs": [],
   "source": []
  }
 ],
 "metadata": {
  "kernelspec": {
   "display_name": "Python 3",
   "language": "python",
   "name": "python3"
  },
  "language_info": {
   "codemirror_mode": {
    "name": "ipython",
    "version": 3
   },
   "file_extension": ".py",
   "mimetype": "text/x-python",
   "name": "python",
   "nbconvert_exporter": "python",
   "pygments_lexer": "ipython3",
   "version": "3.5.3"
  }
 },
 "nbformat": 4,
 "nbformat_minor": 4
}
